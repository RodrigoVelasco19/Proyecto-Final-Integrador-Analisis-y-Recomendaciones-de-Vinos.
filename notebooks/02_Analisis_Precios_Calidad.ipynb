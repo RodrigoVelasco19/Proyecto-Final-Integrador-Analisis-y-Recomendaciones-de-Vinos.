{
  "nbformat": 4,
  "nbformat_minor": 0,
  "metadata": {
    "colab": {
      "provenance": []
    },
    "kernelspec": {
      "name": "python3",
      "display_name": "Python 3"
    },
    "language_info": {
      "name": "python"
    }
  },
  "cells": [
    {
      "cell_type": "markdown",
      "source": [
        "## PROYECTO FINAL INTEGRADOR - ANÁLISIS Y RECOMENDACIÓN DE VINOS\n",
        "---------------------"
      ],
      "metadata": {
        "id": "lpmO7N8YT7EZ"
      }
    },
    {
      "cell_type": "markdown",
      "source": [
        "<img src=\"https://raw.githubusercontent.com/RodrigoVelasco19/Imagenes/main/Vino2.jpg\" width=\"70%\">"
      ],
      "metadata": {
        "id": "qLi40t4wUM5n"
      }
    },
    {
      "cell_type": "markdown",
      "source": [
        "#### *Objetivo: Aplicar técnicas de exploración y transformación de datos (EDA y ETL), Machine Learning y Procesamiento de Lenguaje Natural (NLP) para extraer información valiosa sobre vinos y construir un sistema de recomendación basado en reseñas.*\n",
        "---"
      ],
      "metadata": {
        "id": "TEylIH0lUTeH"
      }
    },
    {
      "cell_type": "markdown",
      "source": [
        "### Importación de librerias\n",
        "---"
      ],
      "metadata": {
        "id": "_55fD7ziUm9f"
      }
    },
    {
      "cell_type": "code",
      "source": [
        "from google.colab import drive\n",
        "import pandas as pd\n",
        "import seaborn as sns\n",
        "import matplotlib.pyplot as plt\n",
        "from sklearn.compose import ColumnTransformer\n",
        "from sklearn.pipeline import Pipeline\n",
        "from sklearn.model_selection import train_test_split\n",
        "from sklearn.linear_model import LinearRegression\n",
        "from sklearn.preprocessing import OneHotEncoder\n",
        "from sklearn.metrics import mean_squared_error, r2_score\n",
        "from sklearn.ensemble import RandomForestRegressor"
      ],
      "metadata": {
        "id": "kyHrNyVKVaOk"
      },
      "execution_count": 56,
      "outputs": []
    },
    {
      "cell_type": "markdown",
      "source": [
        "Se busca analizar la distribución de calidad/precio en los distintos vinos. Se analizará que regiones y variedades de uva presentar valores más elevados de este indicador.\n",
        "Finalmente se aplicarán técnicas de regresión para predecir el precio de un vino según sus características.\n",
        "\n",
        "Se crea un nuevo dataframe ('df_clean_cp') para esta sección. A partir del dataframe df 'df_clean' se agrega una nueva columna con la resultante del cociente puntuacion/precio."
      ],
      "metadata": {
        "id": "Z8nlnxOJQuL_"
      }
    },
    {
      "cell_type": "code",
      "source": [
        "# Se descarga el dataframe df_clean proveniente del proceso de ETL y EDA\n",
        "\n",
        "drive.mount('/content/drive')\n",
        "# Ruta del archivo en Google Drive\n",
        "file_path = \"/content/drive/My Drive/Proyecto-Final-Integrador-Analisis-y-Recomendaciones-de-Vinos/dataframes/df_clean.pkl\"\n",
        "\n",
        "# Cargar el DataFrame\n",
        "df_clean = pd.read_pickle(file_path)\n",
        "\n",
        "# Verificar que se cargó correctamente\n",
        "df_clean.head()"
      ],
      "metadata": {
        "colab": {
          "base_uri": "https://localhost:8080/",
          "height": 224
        },
        "id": "9N4U7MkQXnKG",
        "outputId": "216fbe42-f6ae-45b0-b1ca-6c448a4adbeb"
      },
      "execution_count": 57,
      "outputs": [
        {
          "output_type": "stream",
          "name": "stdout",
          "text": [
            "Drive already mounted at /content/drive; to attempt to forcibly remount, call drive.mount(\"/content/drive\", force_remount=True).\n"
          ]
        },
        {
          "output_type": "execute_result",
          "data": {
            "text/plain": [
              "       pais                                        descripcion  puntuacion  \\\n",
              "1  Portugal  This is ripe and fruity, a wine that is smooth...          87   \n",
              "2        US  Tart and snappy, the flavors of lime flesh and...          87   \n",
              "3        US  Pineapple rind, lemon pith and orange blossom ...          87   \n",
              "4        US  Much like the regular bottling from 2012, this...          87   \n",
              "5     Spain  Blackberry and raspberry aromas show a typical...          87   \n",
              "\n",
              "   precio       provincia            variedad               bodega  \n",
              "1    15.0           Douro      Portuguese Red  Quinta dos Avidagos  \n",
              "2    14.0          Oregon          Pinot Gris            Rainstorm  \n",
              "3    13.0        Michigan            Riesling           St. Julian  \n",
              "4    65.0          Oregon          Pinot Noir         Sweet Cheeks  \n",
              "5    15.0  Northern Spain  Tempranillo-Merlot               Tandem  "
            ],
            "text/html": [
              "\n",
              "  <div id=\"df-7a87be47-64b4-4365-a711-f01d0c6f9fed\" class=\"colab-df-container\">\n",
              "    <div>\n",
              "<style scoped>\n",
              "    .dataframe tbody tr th:only-of-type {\n",
              "        vertical-align: middle;\n",
              "    }\n",
              "\n",
              "    .dataframe tbody tr th {\n",
              "        vertical-align: top;\n",
              "    }\n",
              "\n",
              "    .dataframe thead th {\n",
              "        text-align: right;\n",
              "    }\n",
              "</style>\n",
              "<table border=\"1\" class=\"dataframe\">\n",
              "  <thead>\n",
              "    <tr style=\"text-align: right;\">\n",
              "      <th></th>\n",
              "      <th>pais</th>\n",
              "      <th>descripcion</th>\n",
              "      <th>puntuacion</th>\n",
              "      <th>precio</th>\n",
              "      <th>provincia</th>\n",
              "      <th>variedad</th>\n",
              "      <th>bodega</th>\n",
              "    </tr>\n",
              "  </thead>\n",
              "  <tbody>\n",
              "    <tr>\n",
              "      <th>1</th>\n",
              "      <td>Portugal</td>\n",
              "      <td>This is ripe and fruity, a wine that is smooth...</td>\n",
              "      <td>87</td>\n",
              "      <td>15.0</td>\n",
              "      <td>Douro</td>\n",
              "      <td>Portuguese Red</td>\n",
              "      <td>Quinta dos Avidagos</td>\n",
              "    </tr>\n",
              "    <tr>\n",
              "      <th>2</th>\n",
              "      <td>US</td>\n",
              "      <td>Tart and snappy, the flavors of lime flesh and...</td>\n",
              "      <td>87</td>\n",
              "      <td>14.0</td>\n",
              "      <td>Oregon</td>\n",
              "      <td>Pinot Gris</td>\n",
              "      <td>Rainstorm</td>\n",
              "    </tr>\n",
              "    <tr>\n",
              "      <th>3</th>\n",
              "      <td>US</td>\n",
              "      <td>Pineapple rind, lemon pith and orange blossom ...</td>\n",
              "      <td>87</td>\n",
              "      <td>13.0</td>\n",
              "      <td>Michigan</td>\n",
              "      <td>Riesling</td>\n",
              "      <td>St. Julian</td>\n",
              "    </tr>\n",
              "    <tr>\n",
              "      <th>4</th>\n",
              "      <td>US</td>\n",
              "      <td>Much like the regular bottling from 2012, this...</td>\n",
              "      <td>87</td>\n",
              "      <td>65.0</td>\n",
              "      <td>Oregon</td>\n",
              "      <td>Pinot Noir</td>\n",
              "      <td>Sweet Cheeks</td>\n",
              "    </tr>\n",
              "    <tr>\n",
              "      <th>5</th>\n",
              "      <td>Spain</td>\n",
              "      <td>Blackberry and raspberry aromas show a typical...</td>\n",
              "      <td>87</td>\n",
              "      <td>15.0</td>\n",
              "      <td>Northern Spain</td>\n",
              "      <td>Tempranillo-Merlot</td>\n",
              "      <td>Tandem</td>\n",
              "    </tr>\n",
              "  </tbody>\n",
              "</table>\n",
              "</div>\n",
              "    <div class=\"colab-df-buttons\">\n",
              "\n",
              "  <div class=\"colab-df-container\">\n",
              "    <button class=\"colab-df-convert\" onclick=\"convertToInteractive('df-7a87be47-64b4-4365-a711-f01d0c6f9fed')\"\n",
              "            title=\"Convert this dataframe to an interactive table.\"\n",
              "            style=\"display:none;\">\n",
              "\n",
              "  <svg xmlns=\"http://www.w3.org/2000/svg\" height=\"24px\" viewBox=\"0 -960 960 960\">\n",
              "    <path d=\"M120-120v-720h720v720H120Zm60-500h600v-160H180v160Zm220 220h160v-160H400v160Zm0 220h160v-160H400v160ZM180-400h160v-160H180v160Zm440 0h160v-160H620v160ZM180-180h160v-160H180v160Zm440 0h160v-160H620v160Z\"/>\n",
              "  </svg>\n",
              "    </button>\n",
              "\n",
              "  <style>\n",
              "    .colab-df-container {\n",
              "      display:flex;\n",
              "      gap: 12px;\n",
              "    }\n",
              "\n",
              "    .colab-df-convert {\n",
              "      background-color: #E8F0FE;\n",
              "      border: none;\n",
              "      border-radius: 50%;\n",
              "      cursor: pointer;\n",
              "      display: none;\n",
              "      fill: #1967D2;\n",
              "      height: 32px;\n",
              "      padding: 0 0 0 0;\n",
              "      width: 32px;\n",
              "    }\n",
              "\n",
              "    .colab-df-convert:hover {\n",
              "      background-color: #E2EBFA;\n",
              "      box-shadow: 0px 1px 2px rgba(60, 64, 67, 0.3), 0px 1px 3px 1px rgba(60, 64, 67, 0.15);\n",
              "      fill: #174EA6;\n",
              "    }\n",
              "\n",
              "    .colab-df-buttons div {\n",
              "      margin-bottom: 4px;\n",
              "    }\n",
              "\n",
              "    [theme=dark] .colab-df-convert {\n",
              "      background-color: #3B4455;\n",
              "      fill: #D2E3FC;\n",
              "    }\n",
              "\n",
              "    [theme=dark] .colab-df-convert:hover {\n",
              "      background-color: #434B5C;\n",
              "      box-shadow: 0px 1px 3px 1px rgba(0, 0, 0, 0.15);\n",
              "      filter: drop-shadow(0px 1px 2px rgba(0, 0, 0, 0.3));\n",
              "      fill: #FFFFFF;\n",
              "    }\n",
              "  </style>\n",
              "\n",
              "    <script>\n",
              "      const buttonEl =\n",
              "        document.querySelector('#df-7a87be47-64b4-4365-a711-f01d0c6f9fed button.colab-df-convert');\n",
              "      buttonEl.style.display =\n",
              "        google.colab.kernel.accessAllowed ? 'block' : 'none';\n",
              "\n",
              "      async function convertToInteractive(key) {\n",
              "        const element = document.querySelector('#df-7a87be47-64b4-4365-a711-f01d0c6f9fed');\n",
              "        const dataTable =\n",
              "          await google.colab.kernel.invokeFunction('convertToInteractive',\n",
              "                                                    [key], {});\n",
              "        if (!dataTable) return;\n",
              "\n",
              "        const docLinkHtml = 'Like what you see? Visit the ' +\n",
              "          '<a target=\"_blank\" href=https://colab.research.google.com/notebooks/data_table.ipynb>data table notebook</a>'\n",
              "          + ' to learn more about interactive tables.';\n",
              "        element.innerHTML = '';\n",
              "        dataTable['output_type'] = 'display_data';\n",
              "        await google.colab.output.renderOutput(dataTable, element);\n",
              "        const docLink = document.createElement('div');\n",
              "        docLink.innerHTML = docLinkHtml;\n",
              "        element.appendChild(docLink);\n",
              "      }\n",
              "    </script>\n",
              "  </div>\n",
              "\n",
              "\n",
              "<div id=\"df-47a00e5c-32c2-493d-a846-fa76387000f8\">\n",
              "  <button class=\"colab-df-quickchart\" onclick=\"quickchart('df-47a00e5c-32c2-493d-a846-fa76387000f8')\"\n",
              "            title=\"Suggest charts\"\n",
              "            style=\"display:none;\">\n",
              "\n",
              "<svg xmlns=\"http://www.w3.org/2000/svg\" height=\"24px\"viewBox=\"0 0 24 24\"\n",
              "     width=\"24px\">\n",
              "    <g>\n",
              "        <path d=\"M19 3H5c-1.1 0-2 .9-2 2v14c0 1.1.9 2 2 2h14c1.1 0 2-.9 2-2V5c0-1.1-.9-2-2-2zM9 17H7v-7h2v7zm4 0h-2V7h2v10zm4 0h-2v-4h2v4z\"/>\n",
              "    </g>\n",
              "</svg>\n",
              "  </button>\n",
              "\n",
              "<style>\n",
              "  .colab-df-quickchart {\n",
              "      --bg-color: #E8F0FE;\n",
              "      --fill-color: #1967D2;\n",
              "      --hover-bg-color: #E2EBFA;\n",
              "      --hover-fill-color: #174EA6;\n",
              "      --disabled-fill-color: #AAA;\n",
              "      --disabled-bg-color: #DDD;\n",
              "  }\n",
              "\n",
              "  [theme=dark] .colab-df-quickchart {\n",
              "      --bg-color: #3B4455;\n",
              "      --fill-color: #D2E3FC;\n",
              "      --hover-bg-color: #434B5C;\n",
              "      --hover-fill-color: #FFFFFF;\n",
              "      --disabled-bg-color: #3B4455;\n",
              "      --disabled-fill-color: #666;\n",
              "  }\n",
              "\n",
              "  .colab-df-quickchart {\n",
              "    background-color: var(--bg-color);\n",
              "    border: none;\n",
              "    border-radius: 50%;\n",
              "    cursor: pointer;\n",
              "    display: none;\n",
              "    fill: var(--fill-color);\n",
              "    height: 32px;\n",
              "    padding: 0;\n",
              "    width: 32px;\n",
              "  }\n",
              "\n",
              "  .colab-df-quickchart:hover {\n",
              "    background-color: var(--hover-bg-color);\n",
              "    box-shadow: 0 1px 2px rgba(60, 64, 67, 0.3), 0 1px 3px 1px rgba(60, 64, 67, 0.15);\n",
              "    fill: var(--button-hover-fill-color);\n",
              "  }\n",
              "\n",
              "  .colab-df-quickchart-complete:disabled,\n",
              "  .colab-df-quickchart-complete:disabled:hover {\n",
              "    background-color: var(--disabled-bg-color);\n",
              "    fill: var(--disabled-fill-color);\n",
              "    box-shadow: none;\n",
              "  }\n",
              "\n",
              "  .colab-df-spinner {\n",
              "    border: 2px solid var(--fill-color);\n",
              "    border-color: transparent;\n",
              "    border-bottom-color: var(--fill-color);\n",
              "    animation:\n",
              "      spin 1s steps(1) infinite;\n",
              "  }\n",
              "\n",
              "  @keyframes spin {\n",
              "    0% {\n",
              "      border-color: transparent;\n",
              "      border-bottom-color: var(--fill-color);\n",
              "      border-left-color: var(--fill-color);\n",
              "    }\n",
              "    20% {\n",
              "      border-color: transparent;\n",
              "      border-left-color: var(--fill-color);\n",
              "      border-top-color: var(--fill-color);\n",
              "    }\n",
              "    30% {\n",
              "      border-color: transparent;\n",
              "      border-left-color: var(--fill-color);\n",
              "      border-top-color: var(--fill-color);\n",
              "      border-right-color: var(--fill-color);\n",
              "    }\n",
              "    40% {\n",
              "      border-color: transparent;\n",
              "      border-right-color: var(--fill-color);\n",
              "      border-top-color: var(--fill-color);\n",
              "    }\n",
              "    60% {\n",
              "      border-color: transparent;\n",
              "      border-right-color: var(--fill-color);\n",
              "    }\n",
              "    80% {\n",
              "      border-color: transparent;\n",
              "      border-right-color: var(--fill-color);\n",
              "      border-bottom-color: var(--fill-color);\n",
              "    }\n",
              "    90% {\n",
              "      border-color: transparent;\n",
              "      border-bottom-color: var(--fill-color);\n",
              "    }\n",
              "  }\n",
              "</style>\n",
              "\n",
              "  <script>\n",
              "    async function quickchart(key) {\n",
              "      const quickchartButtonEl =\n",
              "        document.querySelector('#' + key + ' button');\n",
              "      quickchartButtonEl.disabled = true;  // To prevent multiple clicks.\n",
              "      quickchartButtonEl.classList.add('colab-df-spinner');\n",
              "      try {\n",
              "        const charts = await google.colab.kernel.invokeFunction(\n",
              "            'suggestCharts', [key], {});\n",
              "      } catch (error) {\n",
              "        console.error('Error during call to suggestCharts:', error);\n",
              "      }\n",
              "      quickchartButtonEl.classList.remove('colab-df-spinner');\n",
              "      quickchartButtonEl.classList.add('colab-df-quickchart-complete');\n",
              "    }\n",
              "    (() => {\n",
              "      let quickchartButtonEl =\n",
              "        document.querySelector('#df-47a00e5c-32c2-493d-a846-fa76387000f8 button');\n",
              "      quickchartButtonEl.style.display =\n",
              "        google.colab.kernel.accessAllowed ? 'block' : 'none';\n",
              "    })();\n",
              "  </script>\n",
              "</div>\n",
              "\n",
              "    </div>\n",
              "  </div>\n"
            ],
            "application/vnd.google.colaboratory.intrinsic+json": {
              "type": "dataframe",
              "variable_name": "df_clean"
            }
          },
          "metadata": {},
          "execution_count": 57
        }
      ]
    },
    {
      "cell_type": "code",
      "source": [
        "# Crear una copia de df_clean para trabajar con ella\n",
        "df_clean_cp = df_clean.copy()\n",
        "\n",
        "# Agregar la columna \"calidad-precio\" como el cociente entre \"puntuacion\" y \"precio\"\n",
        "df_clean_cp['calidad-precio'] = df_clean_cp['puntuacion'] / df_clean_cp['precio']\n",
        "\n",
        "# Verificar las primeras filas del nuevo DataFrame\n",
        "df_clean_cp.head()"
      ],
      "metadata": {
        "colab": {
          "base_uri": "https://localhost:8080/",
          "height": 275
        },
        "id": "YwVSNaeTSJoe",
        "outputId": "40c0cccf-5f17-41b4-a8ae-faf3e1923fe3"
      },
      "execution_count": 58,
      "outputs": [
        {
          "output_type": "execute_result",
          "data": {
            "text/plain": [
              "       pais                                        descripcion  puntuacion  \\\n",
              "1  Portugal  This is ripe and fruity, a wine that is smooth...          87   \n",
              "2        US  Tart and snappy, the flavors of lime flesh and...          87   \n",
              "3        US  Pineapple rind, lemon pith and orange blossom ...          87   \n",
              "4        US  Much like the regular bottling from 2012, this...          87   \n",
              "5     Spain  Blackberry and raspberry aromas show a typical...          87   \n",
              "\n",
              "   precio       provincia            variedad               bodega  \\\n",
              "1    15.0           Douro      Portuguese Red  Quinta dos Avidagos   \n",
              "2    14.0          Oregon          Pinot Gris            Rainstorm   \n",
              "3    13.0        Michigan            Riesling           St. Julian   \n",
              "4    65.0          Oregon          Pinot Noir         Sweet Cheeks   \n",
              "5    15.0  Northern Spain  Tempranillo-Merlot               Tandem   \n",
              "\n",
              "   calidad-precio  \n",
              "1        5.800000  \n",
              "2        6.214286  \n",
              "3        6.692308  \n",
              "4        1.338462  \n",
              "5        5.800000  "
            ],
            "text/html": [
              "\n",
              "  <div id=\"df-3d577998-652c-462a-a728-fb27f257f511\" class=\"colab-df-container\">\n",
              "    <div>\n",
              "<style scoped>\n",
              "    .dataframe tbody tr th:only-of-type {\n",
              "        vertical-align: middle;\n",
              "    }\n",
              "\n",
              "    .dataframe tbody tr th {\n",
              "        vertical-align: top;\n",
              "    }\n",
              "\n",
              "    .dataframe thead th {\n",
              "        text-align: right;\n",
              "    }\n",
              "</style>\n",
              "<table border=\"1\" class=\"dataframe\">\n",
              "  <thead>\n",
              "    <tr style=\"text-align: right;\">\n",
              "      <th></th>\n",
              "      <th>pais</th>\n",
              "      <th>descripcion</th>\n",
              "      <th>puntuacion</th>\n",
              "      <th>precio</th>\n",
              "      <th>provincia</th>\n",
              "      <th>variedad</th>\n",
              "      <th>bodega</th>\n",
              "      <th>calidad-precio</th>\n",
              "    </tr>\n",
              "  </thead>\n",
              "  <tbody>\n",
              "    <tr>\n",
              "      <th>1</th>\n",
              "      <td>Portugal</td>\n",
              "      <td>This is ripe and fruity, a wine that is smooth...</td>\n",
              "      <td>87</td>\n",
              "      <td>15.0</td>\n",
              "      <td>Douro</td>\n",
              "      <td>Portuguese Red</td>\n",
              "      <td>Quinta dos Avidagos</td>\n",
              "      <td>5.800000</td>\n",
              "    </tr>\n",
              "    <tr>\n",
              "      <th>2</th>\n",
              "      <td>US</td>\n",
              "      <td>Tart and snappy, the flavors of lime flesh and...</td>\n",
              "      <td>87</td>\n",
              "      <td>14.0</td>\n",
              "      <td>Oregon</td>\n",
              "      <td>Pinot Gris</td>\n",
              "      <td>Rainstorm</td>\n",
              "      <td>6.214286</td>\n",
              "    </tr>\n",
              "    <tr>\n",
              "      <th>3</th>\n",
              "      <td>US</td>\n",
              "      <td>Pineapple rind, lemon pith and orange blossom ...</td>\n",
              "      <td>87</td>\n",
              "      <td>13.0</td>\n",
              "      <td>Michigan</td>\n",
              "      <td>Riesling</td>\n",
              "      <td>St. Julian</td>\n",
              "      <td>6.692308</td>\n",
              "    </tr>\n",
              "    <tr>\n",
              "      <th>4</th>\n",
              "      <td>US</td>\n",
              "      <td>Much like the regular bottling from 2012, this...</td>\n",
              "      <td>87</td>\n",
              "      <td>65.0</td>\n",
              "      <td>Oregon</td>\n",
              "      <td>Pinot Noir</td>\n",
              "      <td>Sweet Cheeks</td>\n",
              "      <td>1.338462</td>\n",
              "    </tr>\n",
              "    <tr>\n",
              "      <th>5</th>\n",
              "      <td>Spain</td>\n",
              "      <td>Blackberry and raspberry aromas show a typical...</td>\n",
              "      <td>87</td>\n",
              "      <td>15.0</td>\n",
              "      <td>Northern Spain</td>\n",
              "      <td>Tempranillo-Merlot</td>\n",
              "      <td>Tandem</td>\n",
              "      <td>5.800000</td>\n",
              "    </tr>\n",
              "  </tbody>\n",
              "</table>\n",
              "</div>\n",
              "    <div class=\"colab-df-buttons\">\n",
              "\n",
              "  <div class=\"colab-df-container\">\n",
              "    <button class=\"colab-df-convert\" onclick=\"convertToInteractive('df-3d577998-652c-462a-a728-fb27f257f511')\"\n",
              "            title=\"Convert this dataframe to an interactive table.\"\n",
              "            style=\"display:none;\">\n",
              "\n",
              "  <svg xmlns=\"http://www.w3.org/2000/svg\" height=\"24px\" viewBox=\"0 -960 960 960\">\n",
              "    <path d=\"M120-120v-720h720v720H120Zm60-500h600v-160H180v160Zm220 220h160v-160H400v160Zm0 220h160v-160H400v160ZM180-400h160v-160H180v160Zm440 0h160v-160H620v160ZM180-180h160v-160H180v160Zm440 0h160v-160H620v160Z\"/>\n",
              "  </svg>\n",
              "    </button>\n",
              "\n",
              "  <style>\n",
              "    .colab-df-container {\n",
              "      display:flex;\n",
              "      gap: 12px;\n",
              "    }\n",
              "\n",
              "    .colab-df-convert {\n",
              "      background-color: #E8F0FE;\n",
              "      border: none;\n",
              "      border-radius: 50%;\n",
              "      cursor: pointer;\n",
              "      display: none;\n",
              "      fill: #1967D2;\n",
              "      height: 32px;\n",
              "      padding: 0 0 0 0;\n",
              "      width: 32px;\n",
              "    }\n",
              "\n",
              "    .colab-df-convert:hover {\n",
              "      background-color: #E2EBFA;\n",
              "      box-shadow: 0px 1px 2px rgba(60, 64, 67, 0.3), 0px 1px 3px 1px rgba(60, 64, 67, 0.15);\n",
              "      fill: #174EA6;\n",
              "    }\n",
              "\n",
              "    .colab-df-buttons div {\n",
              "      margin-bottom: 4px;\n",
              "    }\n",
              "\n",
              "    [theme=dark] .colab-df-convert {\n",
              "      background-color: #3B4455;\n",
              "      fill: #D2E3FC;\n",
              "    }\n",
              "\n",
              "    [theme=dark] .colab-df-convert:hover {\n",
              "      background-color: #434B5C;\n",
              "      box-shadow: 0px 1px 3px 1px rgba(0, 0, 0, 0.15);\n",
              "      filter: drop-shadow(0px 1px 2px rgba(0, 0, 0, 0.3));\n",
              "      fill: #FFFFFF;\n",
              "    }\n",
              "  </style>\n",
              "\n",
              "    <script>\n",
              "      const buttonEl =\n",
              "        document.querySelector('#df-3d577998-652c-462a-a728-fb27f257f511 button.colab-df-convert');\n",
              "      buttonEl.style.display =\n",
              "        google.colab.kernel.accessAllowed ? 'block' : 'none';\n",
              "\n",
              "      async function convertToInteractive(key) {\n",
              "        const element = document.querySelector('#df-3d577998-652c-462a-a728-fb27f257f511');\n",
              "        const dataTable =\n",
              "          await google.colab.kernel.invokeFunction('convertToInteractive',\n",
              "                                                    [key], {});\n",
              "        if (!dataTable) return;\n",
              "\n",
              "        const docLinkHtml = 'Like what you see? Visit the ' +\n",
              "          '<a target=\"_blank\" href=https://colab.research.google.com/notebooks/data_table.ipynb>data table notebook</a>'\n",
              "          + ' to learn more about interactive tables.';\n",
              "        element.innerHTML = '';\n",
              "        dataTable['output_type'] = 'display_data';\n",
              "        await google.colab.output.renderOutput(dataTable, element);\n",
              "        const docLink = document.createElement('div');\n",
              "        docLink.innerHTML = docLinkHtml;\n",
              "        element.appendChild(docLink);\n",
              "      }\n",
              "    </script>\n",
              "  </div>\n",
              "\n",
              "\n",
              "<div id=\"df-dc5d2899-e451-4db9-832c-32d53e010b8e\">\n",
              "  <button class=\"colab-df-quickchart\" onclick=\"quickchart('df-dc5d2899-e451-4db9-832c-32d53e010b8e')\"\n",
              "            title=\"Suggest charts\"\n",
              "            style=\"display:none;\">\n",
              "\n",
              "<svg xmlns=\"http://www.w3.org/2000/svg\" height=\"24px\"viewBox=\"0 0 24 24\"\n",
              "     width=\"24px\">\n",
              "    <g>\n",
              "        <path d=\"M19 3H5c-1.1 0-2 .9-2 2v14c0 1.1.9 2 2 2h14c1.1 0 2-.9 2-2V5c0-1.1-.9-2-2-2zM9 17H7v-7h2v7zm4 0h-2V7h2v10zm4 0h-2v-4h2v4z\"/>\n",
              "    </g>\n",
              "</svg>\n",
              "  </button>\n",
              "\n",
              "<style>\n",
              "  .colab-df-quickchart {\n",
              "      --bg-color: #E8F0FE;\n",
              "      --fill-color: #1967D2;\n",
              "      --hover-bg-color: #E2EBFA;\n",
              "      --hover-fill-color: #174EA6;\n",
              "      --disabled-fill-color: #AAA;\n",
              "      --disabled-bg-color: #DDD;\n",
              "  }\n",
              "\n",
              "  [theme=dark] .colab-df-quickchart {\n",
              "      --bg-color: #3B4455;\n",
              "      --fill-color: #D2E3FC;\n",
              "      --hover-bg-color: #434B5C;\n",
              "      --hover-fill-color: #FFFFFF;\n",
              "      --disabled-bg-color: #3B4455;\n",
              "      --disabled-fill-color: #666;\n",
              "  }\n",
              "\n",
              "  .colab-df-quickchart {\n",
              "    background-color: var(--bg-color);\n",
              "    border: none;\n",
              "    border-radius: 50%;\n",
              "    cursor: pointer;\n",
              "    display: none;\n",
              "    fill: var(--fill-color);\n",
              "    height: 32px;\n",
              "    padding: 0;\n",
              "    width: 32px;\n",
              "  }\n",
              "\n",
              "  .colab-df-quickchart:hover {\n",
              "    background-color: var(--hover-bg-color);\n",
              "    box-shadow: 0 1px 2px rgba(60, 64, 67, 0.3), 0 1px 3px 1px rgba(60, 64, 67, 0.15);\n",
              "    fill: var(--button-hover-fill-color);\n",
              "  }\n",
              "\n",
              "  .colab-df-quickchart-complete:disabled,\n",
              "  .colab-df-quickchart-complete:disabled:hover {\n",
              "    background-color: var(--disabled-bg-color);\n",
              "    fill: var(--disabled-fill-color);\n",
              "    box-shadow: none;\n",
              "  }\n",
              "\n",
              "  .colab-df-spinner {\n",
              "    border: 2px solid var(--fill-color);\n",
              "    border-color: transparent;\n",
              "    border-bottom-color: var(--fill-color);\n",
              "    animation:\n",
              "      spin 1s steps(1) infinite;\n",
              "  }\n",
              "\n",
              "  @keyframes spin {\n",
              "    0% {\n",
              "      border-color: transparent;\n",
              "      border-bottom-color: var(--fill-color);\n",
              "      border-left-color: var(--fill-color);\n",
              "    }\n",
              "    20% {\n",
              "      border-color: transparent;\n",
              "      border-left-color: var(--fill-color);\n",
              "      border-top-color: var(--fill-color);\n",
              "    }\n",
              "    30% {\n",
              "      border-color: transparent;\n",
              "      border-left-color: var(--fill-color);\n",
              "      border-top-color: var(--fill-color);\n",
              "      border-right-color: var(--fill-color);\n",
              "    }\n",
              "    40% {\n",
              "      border-color: transparent;\n",
              "      border-right-color: var(--fill-color);\n",
              "      border-top-color: var(--fill-color);\n",
              "    }\n",
              "    60% {\n",
              "      border-color: transparent;\n",
              "      border-right-color: var(--fill-color);\n",
              "    }\n",
              "    80% {\n",
              "      border-color: transparent;\n",
              "      border-right-color: var(--fill-color);\n",
              "      border-bottom-color: var(--fill-color);\n",
              "    }\n",
              "    90% {\n",
              "      border-color: transparent;\n",
              "      border-bottom-color: var(--fill-color);\n",
              "    }\n",
              "  }\n",
              "</style>\n",
              "\n",
              "  <script>\n",
              "    async function quickchart(key) {\n",
              "      const quickchartButtonEl =\n",
              "        document.querySelector('#' + key + ' button');\n",
              "      quickchartButtonEl.disabled = true;  // To prevent multiple clicks.\n",
              "      quickchartButtonEl.classList.add('colab-df-spinner');\n",
              "      try {\n",
              "        const charts = await google.colab.kernel.invokeFunction(\n",
              "            'suggestCharts', [key], {});\n",
              "      } catch (error) {\n",
              "        console.error('Error during call to suggestCharts:', error);\n",
              "      }\n",
              "      quickchartButtonEl.classList.remove('colab-df-spinner');\n",
              "      quickchartButtonEl.classList.add('colab-df-quickchart-complete');\n",
              "    }\n",
              "    (() => {\n",
              "      let quickchartButtonEl =\n",
              "        document.querySelector('#df-dc5d2899-e451-4db9-832c-32d53e010b8e button');\n",
              "      quickchartButtonEl.style.display =\n",
              "        google.colab.kernel.accessAllowed ? 'block' : 'none';\n",
              "    })();\n",
              "  </script>\n",
              "</div>\n",
              "\n",
              "    </div>\n",
              "  </div>\n"
            ],
            "application/vnd.google.colaboratory.intrinsic+json": {
              "type": "dataframe",
              "variable_name": "df_clean_cp"
            }
          },
          "metadata": {},
          "execution_count": 58
        }
      ]
    },
    {
      "cell_type": "markdown",
      "source": [
        "#### 3.1. Análisis de distribución calidad/precio en los vinos\n",
        "----"
      ],
      "metadata": {
        "id": "sTQhscNnSUYw"
      }
    },
    {
      "cell_type": "markdown",
      "source": [
        "Analizamos la distribución del indicador calidad-precio para los distintos vinos."
      ],
      "metadata": {
        "id": "FtUz1sIaTjKW"
      }
    },
    {
      "cell_type": "code",
      "source": [
        "# Calcular la media de calidad-precio\n",
        "mean_quality_price = df_clean_cp['calidad-precio'].mean()\n",
        "\n",
        "# Ajustar el tamaño del gráfico\n",
        "plt.figure(figsize=(10, 6))\n",
        "\n",
        "# Graficar el gráfico de densidad de la columna \"calidad-precio\"\n",
        "sns.kdeplot(df_clean_cp['calidad-precio'], shade=True, color='blue')\n",
        "\n",
        "# Agregar la línea de la media\n",
        "plt.axvline(mean_quality_price, color='red', linestyle='--', label=f'Media: {mean_quality_price:.2f}')\n",
        "\n",
        "# Etiquetas y título\n",
        "plt.xlabel('Calidad-Precio')\n",
        "plt.ylabel('Densidad')\n",
        "plt.title('Distribución de Calidad-Precio de los Vinos')\n",
        "\n",
        "# Mostrar la leyenda\n",
        "plt.legend()\n",
        "\n",
        "# Mostrar la gráfica\n",
        "plt.show()"
      ],
      "metadata": {
        "colab": {
          "base_uri": "https://localhost:8080/",
          "height": 673
        },
        "id": "YrwtQm0hS3qC",
        "outputId": "8ebaf7b9-9d87-43aa-e8eb-22a55c33f8c7"
      },
      "execution_count": 59,
      "outputs": [
        {
          "output_type": "stream",
          "name": "stderr",
          "text": [
            "<ipython-input-59-beacc43a3356>:8: FutureWarning: \n",
            "\n",
            "`shade` is now deprecated in favor of `fill`; setting `fill=True`.\n",
            "This will become an error in seaborn v0.14.0; please update your code.\n",
            "\n",
            "  sns.kdeplot(df_clean_cp['calidad-precio'], shade=True, color='blue')\n"
          ]
        },
        {
          "output_type": "display_data",
          "data": {
            "text/plain": [
              "<Figure size 1000x600 with 1 Axes>"
            ],
            "image/png": "[encoded data removed]"
          },
          "metadata": {}
        }
      ]
    },
    {
      "cell_type": "markdown",
      "source": [
        "#### 3.2. Distribución calidad/precio por pais y por variedad de uva\n",
        "----"
      ],
      "metadata": {
        "id": "Miznjd2XV_lp"
      }
    },
    {
      "cell_type": "markdown",
      "source": [
        "Se analiza la distribución del indicador calidad-precio por pais."
      ],
      "metadata": {
        "id": "OltzoIY-WL4F"
      }
    },
    {
      "cell_type": "code",
      "source": [
        "# Calcular el promedio de calidad-precio por país\n",
        "country_quality_price = df_clean_cp.groupby('pais')['calidad-precio'].mean().sort_values(ascending=False)\n",
        "\n",
        "# Ajustar el tamaño del gráfico\n",
        "plt.figure(figsize=(12, 8))\n",
        "\n",
        "# Graficar el promedio de calidad-precio por país\n",
        "sns.barplot(x=country_quality_price.index, y=country_quality_price.values, palette='viridis')\n",
        "\n",
        "# Etiquetas y título\n",
        "plt.xlabel('País')\n",
        "plt.ylabel('Promedio Calidad-Precio')\n",
        "plt.title('Promedio de Calidad-Precio por País')\n",
        "\n",
        "# Rotar las etiquetas del eje X para que se vean bien\n",
        "plt.xticks(rotation=90)\n",
        "\n",
        "# Mostrar la gráfica\n",
        "plt.show()"
      ],
      "metadata": {
        "colab": {
          "base_uri": "https://localhost:8080/",
          "height": 984
        },
        "id": "hO7whSU7UG-Y",
        "outputId": "90fa545f-4342-4dbf-a5d7-43455421ce87"
      },
      "execution_count": 60,
      "outputs": [
        {
          "output_type": "stream",
          "name": "stderr",
          "text": [
            "<ipython-input-60-fdf1046b4fb5>:8: FutureWarning: \n",
            "\n",
            "Passing `palette` without assigning `hue` is deprecated and will be removed in v0.14.0. Assign the `x` variable to `hue` and set `legend=False` for the same effect.\n",
            "\n",
            "  sns.barplot(x=country_quality_price.index, y=country_quality_price.values, palette='viridis')\n"
          ]
        },
        {
          "output_type": "display_data",
          "data": {
            "text/plain": [
              "<Figure size 1200x800 with 1 Axes>"
            ],
            "image/png": "[encoded data removed]"
          },
          "metadata": {}
        }
      ]
    },
    {
      "cell_type": "markdown",
      "source": [
        "Se analiza la distribución del indicador calidad-precio por variedad de uva. Solo se tienen en cuenta aquellas variedades que representa más del 1.5% del total."
      ],
      "metadata": {
        "id": "01DoLZw1WRVe"
      }
    },
    {
      "cell_type": "code",
      "source": [
        "# Excluir el grupo \"Otras (<1%)\"\n",
        "df_filtered = df_clean_cp[df_clean_cp['variedad'] != 'Otras (<1%)']\n",
        "\n",
        "# Calcular la frecuencia de cada variedad y el porcentaje correspondiente\n",
        "variety_counts = df_filtered['variedad'].value_counts()\n",
        "variety_percentage = variety_counts / variety_counts.sum() * 100\n",
        "\n",
        "# Filtrar las variedades que representan más del 1.5% del total\n",
        "selected_varieties = variety_percentage[variety_percentage > 1.5].index\n",
        "\n",
        "# Filtrar el DataFrame para solo considerar esas variedades\n",
        "df_filtered = df_filtered[df_filtered['variedad'].isin(selected_varieties)]\n",
        "\n",
        "# Calcular el promedio de calidad-precio por variedad\n",
        "variety_quality_price = df_filtered.groupby('variedad')['calidad-precio'].mean().sort_values(ascending=False)\n",
        "\n",
        "# Ajustar el tamaño del gráfico\n",
        "plt.figure(figsize=(12, 8))\n",
        "\n",
        "# Graficar el promedio de calidad-precio por variedad\n",
        "sns.barplot(x=variety_quality_price.index, y=variety_quality_price.values, palette='viridis')\n",
        "\n",
        "# Etiquetas y título\n",
        "plt.xlabel('Variedad')\n",
        "plt.ylabel('Promedio Calidad-Precio')\n",
        "plt.title('Promedio de Calidad-Precio por Variedad (más del 1.5% del total)')\n",
        "\n",
        "# Rotar las etiquetas del eje X para que se vean bien\n",
        "plt.xticks(rotation=90)\n",
        "\n",
        "# Mostrar la gráfica\n",
        "plt.show()"
      ],
      "metadata": {
        "colab": {
          "base_uri": "https://localhost:8080/",
          "height": 995
        },
        "id": "Nmmhn16IWu-U",
        "outputId": "4daded10-71fa-45a8-9fae-885588e37c15"
      },
      "execution_count": 61,
      "outputs": [
        {
          "output_type": "stream",
          "name": "stderr",
          "text": [
            "<ipython-input-61-40522c851792>:21: FutureWarning: \n",
            "\n",
            "Passing `palette` without assigning `hue` is deprecated and will be removed in v0.14.0. Assign the `x` variable to `hue` and set `legend=False` for the same effect.\n",
            "\n",
            "  sns.barplot(x=variety_quality_price.index, y=variety_quality_price.values, palette='viridis')\n"
          ]
        },
        {
          "output_type": "display_data",
          "data": {
            "text/plain": [
              "<Figure size 1200x800 with 1 Axes>"
            ],
            "image/png": "[encoded data removed]"
          },
          "metadata": {}
        }
      ]
    },
    {
      "cell_type": "markdown",
      "source": [
        "#### 3.3. Modelo para predecir el precio del vino\n",
        "----"
      ],
      "metadata": {
        "id": "K_q6iXPDZkdZ"
      }
    },
    {
      "cell_type": "markdown",
      "source": [
        "Debido a que el objetivo es predecir un valor continuo, como el precio del vino, resulta adecuado utilizar un modelo de Regresión Lineal.\n",
        "\n",
        "Se genera inicialmente un modelo de Regresión Lineal para predecir el precio del vino en base a sus características: puntuación, país, provincia, variedad.\n",
        "\n",
        "Luego se genera un modelo Random Forest y se comparan los resultados.\n",
        "\n"
      ],
      "metadata": {
        "id": "c0_hwjSZZrU_"
      }
    },
    {
      "cell_type": "markdown",
      "source": [
        "a) Usamos las columnas 'puntuacion', 'pais', 'provincia', y 'variedad' como características para predecir el precio."
      ],
      "metadata": {
        "id": "eFeduWGDhGyc"
      }
    },
    {
      "cell_type": "code",
      "source": [
        "# Seleccionar las características (columnas) y la variable objetivo\n",
        "X = df_clean_cp[['puntuacion', 'pais', 'provincia', 'variedad']]  # Seleccionar las columnas de características\n",
        "y = df_clean_cp['precio']  # Variable objetivo: precio"
      ],
      "metadata": {
        "id": "-ibuoiQhZ-df"
      },
      "execution_count": 62,
      "outputs": []
    },
    {
      "cell_type": "markdown",
      "source": [
        "b) Usamos OneHotEncoding para convertir las columnas categóricas en variables numéricas."
      ],
      "metadata": {
        "id": "rqQeYWEMhUwP"
      }
    },
    {
      "cell_type": "code",
      "source": [
        "# Preprocesar las características categóricas usando OneHotEncoding\n",
        "preprocessor = ColumnTransformer(\n",
        "    transformers=[\n",
        "        ('cat', OneHotEncoder(handle_unknown='ignore'), ['pais', 'provincia', 'variedad'])  # Ignorar categorías desconocidas\n",
        "    ],\n",
        "    remainder='passthrough'  # Mantener las demás columnas tal como están (puntuacion)\n",
        ")\n"
      ],
      "metadata": {
        "id": "nF6v_zODhT_8"
      },
      "execution_count": 63,
      "outputs": []
    },
    {
      "cell_type": "markdown",
      "source": [
        "c) Creamos el modelo de Regresión Lineal, dividimos los datos en entrenamiento (80%) y prueba(20%). Se entrena el modelo con los datos de entrenamiento para luego realizar las predicciones con los datos de prueba."
      ],
      "metadata": {
        "id": "CuV_g61PhgGJ"
      }
    },
    {
      "cell_type": "code",
      "source": [
        "# Crear un pipeline con el preprocesador y el modelo de regresión lineal\n",
        "pipeline = Pipeline(steps=[\n",
        "    ('preprocessor', preprocessor),\n",
        "    ('regressor', LinearRegression())  # Usamos regresión lineal\n",
        "])\n",
        "\n",
        "# Dividir los datos en entrenamiento y prueba\n",
        "X_train, X_test, y_train, y_test = train_test_split(X, y, test_size=0.2, random_state=42)\n",
        "\n",
        "# Entrenar el modelo\n",
        "pipeline.fit(X_train, y_train)\n",
        "\n",
        "# Hacer predicciones sobre el conjunto de prueba\n",
        "y_pred = pipeline.predict(X_test)"
      ],
      "metadata": {
        "id": "Er8EzW5lhhNM"
      },
      "execution_count": 64,
      "outputs": []
    },
    {
      "cell_type": "markdown",
      "source": [
        "d) Calculamos el Mean Squared Error (MSE) y el R² para evaluar el rendimiento del modelo."
      ],
      "metadata": {
        "id": "2HHmDRWfiPgz"
      }
    },
    {
      "cell_type": "code",
      "source": [
        "# Evaluar el modelo\n",
        "mse = mean_squared_error(y_test, y_pred)\n",
        "r2 = r2_score(y_test, y_pred)\n",
        "\n",
        "# Mostrar los resultados\n",
        "print(f\"Mean Squared Error (MSE): {mse}\")\n",
        "print(f\"R^2 Score: {r2}\")"
      ],
      "metadata": {
        "colab": {
          "base_uri": "https://localhost:8080/"
        },
        "id": "rXwN2AcUiTnS",
        "outputId": "065eafa4-a2d4-4e05-daba-812f76b72868"
      },
      "execution_count": 65,
      "outputs": [
        {
          "output_type": "stream",
          "name": "stdout",
          "text": [
            "Mean Squared Error (MSE): 136.88652222508168\n",
            "R^2 Score: 0.46826537930263856\n"
          ]
        }
      ]
    },
    {
      "cell_type": "markdown",
      "source": [
        "MSE es una métrica que mide el error cuadrático promedio entre los valores reales y las predicciones del modelo.\n",
        "\n",
        "El valor de 142.69 sugiere que el modelo tiene un error moderado.\n",
        "\n",
        "En términos prácticos, el MSE indica cuán lejos están las predicciones del modelo de los valores reales, pero al ser una métrica cuadrática, da más peso a los errores grandes.\n",
        "\n",
        "R² (R-squared) indica el porcentaje de la variabilidad en el precio que está siendo explicada por el modelo. Un R² de 0.4457 significa que el modelo está explicando aproximadamente 44.57% de la variabilidad en los precios de los vinos.\n",
        "\n",
        "-----------------\n"
      ],
      "metadata": {
        "id": "O9ELji6vtDtu"
      }
    },
    {
      "cell_type": "markdown",
      "source": [
        "Como alternativa al modelo de Regresión Lineal se genera un modelo Random Forest."
      ],
      "metadata": {
        "id": "vu7GhprysSIT"
      }
    },
    {
      "cell_type": "code",
      "source": [
        "# Seleccionar las características (columnas) y la variable objetivo\n",
        "X = df_clean_cp[['puntuacion', 'pais', 'provincia', 'variedad']]  # Seleccionar las columnas de características\n",
        "y = df_clean_cp['precio']  # Variable objetivo: precio\n",
        "\n",
        "# Preprocesar las características categóricas usando OneHotEncoding\n",
        "preprocessor = ColumnTransformer(\n",
        "    transformers=[\n",
        "        ('cat', OneHotEncoder(handle_unknown='ignore'), ['pais', 'provincia', 'variedad'])  # Ignorar categorías desconocidas\n",
        "    ],\n",
        "    remainder='passthrough'  # Mantener las demás columnas tal como están (puntuacion)\n",
        ")\n",
        "\n",
        "# Crear un pipeline con el preprocesador y el modelo de Random Forest\n",
        "pipeline = Pipeline(steps=[\n",
        "    ('preprocessor', preprocessor),\n",
        "    ('regressor', RandomForestRegressor(n_estimators=40, random_state=42))  # Usamos Random Forest\n",
        "])\n",
        "\n",
        "# Dividir los datos en entrenamiento y prueba\n",
        "X_train, X_test, y_train, y_test = train_test_split(X, y, test_size=0.2, random_state=42)\n",
        "\n",
        "# Entrenar el modelo\n",
        "pipeline.fit(X_train, y_train)\n",
        "\n",
        "# Hacer predicciones sobre el conjunto de prueba\n",
        "y_pred = pipeline.predict(X_test)\n",
        "\n",
        "# Evaluar el modelo\n",
        "mse = mean_squared_error(y_test, y_pred)\n",
        "r2 = r2_score(y_test, y_pred)\n",
        "\n",
        "# Mostrar los resultados\n",
        "print(f\"Mean Squared Error (MSE): {mse}\")\n",
        "print(f\"R^2 Score: {r2}\")"
      ],
      "metadata": {
        "colab": {
          "base_uri": "https://localhost:8080/"
        },
        "id": "XgTJ0ynLjL3y",
        "outputId": "70797224-4cc3-4b27-8fb9-8b01f3d989c6"
      },
      "execution_count": 66,
      "outputs": [
        {
          "output_type": "stream",
          "name": "stdout",
          "text": [
            "Mean Squared Error (MSE): 127.56084948243489\n",
            "R^2 Score: 0.5044908818426572\n"
          ]
        }
      ]
    },
    {
      "cell_type": "markdown",
      "source": [
        "Se observa que con el modelo Random Forest la capacidad de predecir del modelo mejora un poco en comparación con el modelo de Regresión Lineal.\n",
        "\n",
        "-------------------------------"
      ],
      "metadata": {
        "id": "Oj_m8L3-tn3a"
      }
    }
  ]
}